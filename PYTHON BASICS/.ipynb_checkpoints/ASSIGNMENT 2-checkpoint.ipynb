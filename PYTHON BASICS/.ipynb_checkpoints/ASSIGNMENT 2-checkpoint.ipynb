{
 "cells": [
  {
   "cell_type": "markdown",
   "id": "07af1ab7",
   "metadata": {},
   "source": [
    "## Questions:\n",
    "\n",
    "Assignment questions link: https://drive.google.com/file/d/1eeRUJ1JzCWBWWPi9u3-q8ICJRSQwHUK8/view"
   ]
  },
  {
   "cell_type": "markdown",
   "id": "302256ef",
   "metadata": {},
   "source": [
    "1.What are the two values of the Boolean data type? How do you write them?"
   ]
  },
  {
   "cell_type": "markdown",
   "id": "5d5442de",
   "metadata": {},
   "source": [
    "**ANS**:There were only two values in a boolean data type \"True\" and \"False\" . We have to make sure that the true and false are always captilized when used or else compiler will consider them as a string."
   ]
  },
  {
   "cell_type": "markdown",
   "id": "9005bb67",
   "metadata": {},
   "source": [
    "---"
   ]
  },
  {
   "cell_type": "markdown",
   "id": "50b55a11",
   "metadata": {},
   "source": [
    "2. What are the three different types of Boolean operators?"
   ]
  },
  {
   "cell_type": "markdown",
   "id": "19880f21",
   "metadata": {},
   "source": [
    "**ANS**:AND, OR and NOT are the three boolean operators. They were usually implemented using and, or and not keywords."
   ]
  },
  {
   "cell_type": "code",
   "execution_count": 1,
   "id": "5b483154",
   "metadata": {},
   "outputs": [
    {
     "name": "stdout",
     "output_type": "stream",
     "text": [
      "False\n",
      "True\n",
      "True\n"
     ]
    }
   ],
   "source": [
    "a = 5\n",
    "b = 10\n",
    "print(a>5 and b<5)   #both are false\n",
    "print(a>5 or b>5)    #second condition satisfies so true\n",
    "print(not(a<5))      #a<5 is a false and not opperator inverts the boolean value so true"
   ]
  },
  {
   "cell_type": "markdown",
   "id": "fd12cb33",
   "metadata": {},
   "source": [
    "---"
   ]
  },
  {
   "cell_type": "markdown",
   "id": "025fcc31",
   "metadata": {},
   "source": [
    "3. Make a list of each Boolean operators truth tables (i.e. every possible combination of Boolean\n",
    "values for the operator and what it evaluate )."
   ]
  },
  {
   "cell_type": "markdown",
   "id": "6e396954",
   "metadata": {},
   "source": [
    "**ANS**:\n",
    "AND"
   ]
  },
  {
   "cell_type": "markdown",
   "id": "4c6922c7",
   "metadata": {},
   "source": [
    "|     A     |     B     |  Output:  |\n",
    "|   :---    |   :----:  |    ---:   |\n",
    "|     0     |     0     |     0     |\n",
    "|     0     |     1     |     0     |\n",
    "|     1     |     0     |     0     |\n",
    "|     1     |     1     |     0     |"
   ]
  },
  {
   "cell_type": "markdown",
   "id": "b8ea531a",
   "metadata": {},
   "source": [
    "NOT"
   ]
  },
  {
   "cell_type": "markdown",
   "id": "354d1331",
   "metadata": {},
   "source": [
    "\n",
    "|     A     |  Output:  |\n",
    "| :---      |      ---: |\n",
    "|     0     |     1     |\n",
    "|     1     |     0     |"
   ]
  },
  {
   "cell_type": "markdown",
   "id": "7464a5b6",
   "metadata": {},
   "source": [
    "OR"
   ]
  },
  {
   "cell_type": "markdown",
   "id": "a2754505",
   "metadata": {},
   "source": [
    "|     A     |     B     |  Output  |\n",
    "| :---      |   :----:  |     ---: |\n",
    "|     0     |     0     |     0    |\n",
    "|     0     |     1     |     1    | \n",
    "|     1     |     0     |     1    |\n",
    "|     1     |     1     |     1    |"
   ]
  },
  {
   "cell_type": "markdown",
   "id": "650d3eb5",
   "metadata": {},
   "source": [
    "---"
   ]
  },
  {
   "cell_type": "markdown",
   "id": "e49cb974",
   "metadata": {},
   "source": [
    "4. What are the values of the following expressions?\n",
    "    1. (5 > 4) and (3 == 5)\n",
    "    2. not (5 > 4)\n",
    "    3. (5 > 4) or (3 == 5)\n",
    "    4. not ((5 > 4) or (3 == 5))\n",
    "    5. (True and True) and (True == False)\n",
    "    6. (not False) or (not True)"
   ]
  },
  {
   "cell_type": "markdown",
   "id": "844c6881",
   "metadata": {},
   "source": [
    "**ANS**:"
   ]
  },
  {
   "cell_type": "code",
   "execution_count": 2,
   "id": "177f9156",
   "metadata": {},
   "outputs": [
    {
     "name": "stdout",
     "output_type": "stream",
     "text": [
      "Output for expression (5 > 4) and (3 == 5) is:                   False\n",
      "Output for expression not (5 > 4) is:                            False\n",
      "Output for expression (5 > 4) or (3 == 5) is:                    True\n",
      "Output for expression not (5 > 4) or (3 == 5) is:                False\n",
      "Output for expression (True and True) and (True == False) is:    False\n",
      "Output for expression (not False) or (not True) is:              True\n"
     ]
    }
   ],
   "source": [
    "print(\"Output for expression (5 > 4) and (3 == 5) is:                   {}\".format((5 > 4) and (3 == 5)))\n",
    "print(\"Output for expression not (5 > 4) is:                            {}\".format(not (5 > 4)))\n",
    "print(\"Output for expression (5 > 4) or (3 == 5) is:                    {}\".format((5 > 4) or (3 == 5)))\n",
    "print(\"Output for expression not (5 > 4) or (3 == 5) is:                {}\".format(not ((5 > 4) or (3 == 5))))\n",
    "print(\"Output for expression (True and True) and (True == False) is:    {}\".format((True and True) and (True == False)))\n",
    "print(\"Output for expression (not False) or (not True) is:              {}\".format((not False) or (not True)))"
   ]
  },
  {
   "cell_type": "markdown",
   "id": "a5b8f38a",
   "metadata": {},
   "source": [
    "---"
   ]
  },
  {
   "cell_type": "markdown",
   "id": "4ff76235",
   "metadata": {},
   "source": [
    "5. What are the six comparison operators?"
   ]
  },
  {
   "cell_type": "markdown",
   "id": "ba1e8b30",
   "metadata": {},
   "source": [
    "**ANS**: The six comparison operators in python are:\n",
    "   1. Less than [<]\n",
    "   2. Less than or equal to [<=]\n",
    "   3. Greater than [>]\n",
    "   4. Greater than or equal to [>=]\n",
    "   5. Equals to [==]\n",
    "   6. Not equals to [!=]"
   ]
  },
  {
   "cell_type": "markdown",
   "id": "c49eb694",
   "metadata": {},
   "source": [
    "---"
   ]
  },
  {
   "cell_type": "markdown",
   "id": "c9f91224",
   "metadata": {},
   "source": [
    "6. How do you tell the difference between the equal to and assignment operators?Describe a condition and when you would use one."
   ]
  },
  {
   "cell_type": "markdown",
   "id": "3709b142",
   "metadata": {},
   "source": [
    "**ANS**: An equal to have two \"equal to\" symbols where as an assignment operator have one \"equal to\" symbol.\n",
    "   1. Equal to [==]\n",
    "   2. Assignment operator [=]"
   ]
  },
  {
   "cell_type": "markdown",
   "id": "9bbc57ee",
   "metadata": {},
   "source": [
    "---"
   ]
  },
  {
   "cell_type": "markdown",
   "id": "4c425ac6",
   "metadata": {},
   "source": [
    "7. Identify the three blocks in this code:\n",
    "```\n",
    "spam = 0\n",
    "if spam == 10:\n",
    "    print('eggs')\n",
    "if spam > 5:\n",
    "    print('bacon')\n",
    "else:\n",
    "    print('ham')\n",
    "    print('spam')\n",
    "    print('spam')\n",
    "```"
   ]
  },
  {
   "cell_type": "markdown",
   "id": "4d849547",
   "metadata": {},
   "source": [
    "**ANS**:"
   ]
  },
  {
   "cell_type": "code",
   "execution_count": 3,
   "id": "d57f138c",
   "metadata": {},
   "outputs": [
    {
     "name": "stdout",
     "output_type": "stream",
     "text": [
      "ham\n",
      "spam\n",
      "spam\n"
     ]
    }
   ],
   "source": [
    "spam = 0\n",
    "if spam == 10:\n",
    " print('eggs')\n",
    "if spam > 5:\n",
    " print('bacon')\n",
    "else:\n",
    " print('ham')\n",
    " print('spam')\n",
    " print('spam')"
   ]
  },
  {
   "cell_type": "markdown",
   "id": "1b585ebb",
   "metadata": {},
   "source": [
    "The above code is nested if, we have three code blocks:\n",
    "1. *IF block:*\n",
    "\n",
    "       if spam == 10:\n",
    "          print('eggs')\n",
    "\n",
    "2. *IF block:*\n",
    "\n",
    "       if spam > 5:\n",
    "         print('bacon')\n",
    "         \n",
    "3. *ELSE block:*\n",
    "\n",
    "       else:\n",
    "         print('ham')\n",
    "         print('spam')\n",
    "         print('spam')\n",
    "         \n",
    "         \n",
    "**NOTE**: [If => If => else] may raise few issues so we replace the if apart from the first one with elif where the block together called as else if ladder"
   ]
  },
  {
   "cell_type": "markdown",
   "id": "1cf850a5",
   "metadata": {},
   "source": [
    "---"
   ]
  },
  {
   "cell_type": "markdown",
   "id": "ce512e2c",
   "metadata": {},
   "source": [
    "8. Write code that prints Hello if 1 is stored in spam, prints Howdy if 2 is stored in spam, and prints Greetings! if anything else is stored in spam."
   ]
  },
  {
   "cell_type": "code",
   "execution_count": 4,
   "id": "4a70e050",
   "metadata": {},
   "outputs": [
    {
     "name": "stdout",
     "output_type": "stream",
     "text": [
      "Enter spam4\n",
      "Greetings!\n"
     ]
    }
   ],
   "source": [
    "spm = int(input(\"Enter spam\"))\n",
    "if spm == 1:\n",
    "    print(\"Hello\")\n",
    "elif spm == 2:\n",
    "    print(\"Howdy\")\n",
    "else:\n",
    "    print(\"Greetings!\")"
   ]
  },
  {
   "cell_type": "markdown",
   "id": "8dacc7c9",
   "metadata": {},
   "source": [
    "---"
   ]
  },
  {
   "cell_type": "markdown",
   "id": "9d364179",
   "metadata": {},
   "source": [
    "9.If your programme is stuck in an endless loop, what keys you’ll press?"
   ]
  },
  {
   "cell_type": "markdown",
   "id": "eb26b7be",
   "metadata": {},
   "source": [
    "**ANS** ctrl + C"
   ]
  },
  {
   "cell_type": "markdown",
   "id": "a09e9f5b",
   "metadata": {},
   "source": [
    "---"
   ]
  },
  {
   "cell_type": "markdown",
   "id": "44e8d039",
   "metadata": {},
   "source": [
    "10. How can you tell the difference between break and continue?"
   ]
  },
  {
   "cell_type": "markdown",
   "id": "8b6b7f4c",
   "metadata": {},
   "source": [
    "**ANS**: *Break* usually terminates the loop whereas *continue* skips the current process but still continues in the loop.\n",
    "\n",
    "Example:\n",
    "**Break**"
   ]
  },
  {
   "cell_type": "code",
   "execution_count": 5,
   "id": "45ce826c",
   "metadata": {},
   "outputs": [
    {
     "name": "stdout",
     "output_type": "stream",
     "text": [
      "b\n",
      "r\n",
      "e\n",
      "the loop terminated after e\n"
     ]
    }
   ],
   "source": [
    "for val in \"break\":\n",
    "    if val == \"a\":\n",
    "        break\n",
    "    print(val)\n",
    "\n",
    "print(\"the loop terminated after e\")"
   ]
  },
  {
   "cell_type": "markdown",
   "id": "3a799c93",
   "metadata": {},
   "source": [
    "Example: **Continue**"
   ]
  },
  {
   "cell_type": "code",
   "execution_count": 6,
   "id": "d50de91a",
   "metadata": {},
   "outputs": [
    {
     "name": "stdout",
     "output_type": "stream",
     "text": [
      "b\n",
      "r\n",
      "e\n",
      "k\n",
      "a is skipped\n"
     ]
    }
   ],
   "source": [
    "for val in \"break\":\n",
    "    if val == \"a\":\n",
    "        continue\n",
    "    print(val)\n",
    "\n",
    "print(\"a is skipped\")"
   ]
  },
  {
   "cell_type": "markdown",
   "id": "f88eca13",
   "metadata": {},
   "source": [
    "---"
   ]
  },
  {
   "cell_type": "markdown",
   "id": "dff86620",
   "metadata": {},
   "source": [
    "11. In a for loop, what is the difference between range(10), range(0, 10), and range(0, 10, 1)?"
   ]
  },
  {
   "cell_type": "markdown",
   "id": "ef40d953",
   "metadata": {},
   "source": [
    "**ANS**:"
   ]
  },
  {
   "cell_type": "code",
   "execution_count": 7,
   "id": "f83e0e7a",
   "metadata": {},
   "outputs": [
    {
     "name": "stdout",
     "output_type": "stream",
     "text": [
      "range(0, 10)\n"
     ]
    }
   ],
   "source": [
    "print(range(10))"
   ]
  },
  {
   "cell_type": "code",
   "execution_count": 8,
   "id": "43cc2929",
   "metadata": {},
   "outputs": [
    {
     "name": "stdout",
     "output_type": "stream",
     "text": [
      "range(0, 10)\n"
     ]
    }
   ],
   "source": [
    "print(range(0, 10))"
   ]
  },
  {
   "cell_type": "code",
   "execution_count": 9,
   "id": "61f0c411",
   "metadata": {},
   "outputs": [
    {
     "name": "stdout",
     "output_type": "stream",
     "text": [
      "range(0, 10)\n"
     ]
    }
   ],
   "source": [
    "print(range(0, 10, 1))"
   ]
  },
  {
   "cell_type": "markdown",
   "id": "8e2ca521",
   "metadata": {},
   "source": [
    "All the three performs same action. \n",
    "1. [range(10)] here, the lower limit is not mentioned and by default python conider 0 as lower limit.\n",
    "2. [range(0,10)] here, the lower limit is mentioned and therefore range is 0 - 10.\n",
    "3. [range(0,10,1)] here, the lower limit is 0 and upper limit is 10 and 1 is the step size."
   ]
  },
  {
   "cell_type": "markdown",
   "id": "d67720b1",
   "metadata": {},
   "source": [
    "---"
   ]
  },
  {
   "cell_type": "markdown",
   "id": "5dc16154",
   "metadata": {},
   "source": [
    "12. Write a short program that prints the numbers 1 to 10 using a for loop. Then write an equivalent program that prints the numbers 1 to 10 using a while loop."
   ]
  },
  {
   "cell_type": "markdown",
   "id": "56443bd1",
   "metadata": {},
   "source": [
    "**ANS**:\n",
    "Using For loop"
   ]
  },
  {
   "cell_type": "code",
   "execution_count": 10,
   "id": "410c2f10",
   "metadata": {},
   "outputs": [
    {
     "name": "stdout",
     "output_type": "stream",
     "text": [
      "1\n",
      "2\n",
      "3\n",
      "4\n",
      "5\n",
      "6\n",
      "7\n",
      "8\n",
      "9\n",
      "10\n"
     ]
    }
   ],
   "source": [
    "for i in range(1,11):\n",
    "    print(i)"
   ]
  },
  {
   "cell_type": "markdown",
   "id": "ca743773",
   "metadata": {},
   "source": [
    "Using while loop"
   ]
  },
  {
   "cell_type": "code",
   "execution_count": 11,
   "id": "c0067f1a",
   "metadata": {},
   "outputs": [
    {
     "name": "stdout",
     "output_type": "stream",
     "text": [
      "1\n",
      "2\n",
      "3\n",
      "4\n",
      "5\n",
      "6\n",
      "7\n",
      "8\n",
      "9\n",
      "10\n"
     ]
    }
   ],
   "source": [
    "i = 1\n",
    "while(i<=10):\n",
    "    print(i)\n",
    "    i+=1"
   ]
  },
  {
   "cell_type": "markdown",
   "id": "e719ada4",
   "metadata": {},
   "source": [
    "---"
   ]
  },
  {
   "cell_type": "markdown",
   "id": "b99ee9e8",
   "metadata": {},
   "source": [
    "13. If you had a function named bacon() inside a module named spam, how would you call it after importing spam?"
   ]
  },
  {
   "cell_type": "markdown",
   "id": "4eaf5b7a",
   "metadata": {},
   "source": [
    "**ANS**: spam.bacon()"
   ]
  },
  {
   "cell_type": "markdown",
   "id": "1e9cf7fe",
   "metadata": {},
   "source": [
    "---"
   ]
  },
  {
   "cell_type": "markdown",
   "id": "8a9d8423",
   "metadata": {},
   "source": [
    "# ----------------------------------- END OF ASSIGNMENT 2 -----------------------------------"
   ]
  }
 ],
 "metadata": {
  "kernelspec": {
   "display_name": "Python 3",
   "language": "python",
   "name": "python3"
  },
  "language_info": {
   "codemirror_mode": {
    "name": "ipython",
    "version": 3
   },
   "file_extension": ".py",
   "mimetype": "text/x-python",
   "name": "python",
   "nbconvert_exporter": "python",
   "pygments_lexer": "ipython3",
   "version": "3.8.8"
  }
 },
 "nbformat": 4,
 "nbformat_minor": 5
}

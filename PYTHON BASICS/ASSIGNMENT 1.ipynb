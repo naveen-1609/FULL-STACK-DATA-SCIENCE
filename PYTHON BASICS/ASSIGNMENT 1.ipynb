{
 "cells": [
  {
   "cell_type": "markdown",
   "id": "c9a14ad3",
   "metadata": {},
   "source": [
    "## Questions:\n",
    "\n",
    "Assignment questions link: https://drive.google.com/file/d/1RjQBjq90BeqNuon_JUlrih7Tnda732cs/view"
   ]
  },
  {
   "cell_type": "markdown",
   "id": "db21741c",
   "metadata": {},
   "source": [
    "1. *In the below elements which of them are values or an expression? eg:- values can beinteger or string and expressions will be mathematical operators.*\n",
    " 1. *\n",
    " 2. \"hello\"\n",
    " 3. -87.8\n",
    " 4. -\n",
    " 5. /\n",
    " 6. +\n",
    " 7. 6\n",
    " \n",
    " \n",
    "**ANS**: B,Cand G are values; A,D,E,F are expressions(mathematical operators)\n",
    "\n",
    "---"
   ]
  },
  {
   "cell_type": "markdown",
   "id": "7005b7c3",
   "metadata": {},
   "source": [
    "2. *What is the difference between string and variable?*\n",
    "\n",
    "**ANS**: A string is a data type which is a type of variable its a stream of charecters whereas, a variable is a local or global instance which can be a string, integer, boolean and so on.\n",
    "\n",
    "---"
   ]
  },
  {
   "cell_type": "markdown",
   "id": "f1586529",
   "metadata": {},
   "source": [
    "3. *Describe three different data types.*\n",
    "\n",
    "**ANS**: There are 7 main types of Built in data types in python:\n",
    "Text Type:\tstr\n",
    "Numeric Types:\tint, float, complex\n",
    "Sequence Types:\tlist, tuple, range\n",
    "Mapping Type:\tdict\n",
    "Set Types:\tset, frozenset\n",
    "Boolean Type:\tbool\n",
    "Binary Types:\tbytes, bytearray, memoryview\n",
    "\n",
    "---"
   ]
  },
  {
   "cell_type": "markdown",
   "id": "bca42db8",
   "metadata": {},
   "source": [
    "4. *What is an expression made up of? What do all expressions do?*\n",
    "\n",
    "**ANS** : All expressions are made up of mathemetical operators and every expression performs a mathematical operation.\n",
    "\n",
    "---"
   ]
  },
  {
   "cell_type": "markdown",
   "id": "43bc6844",
   "metadata": {},
   "source": [
    "5. *This assignment statements, like spam = 10. What is the difference between an expression and a statement?*\n",
    "\n",
    "**ANS**: EXPRESSION : Its is used to perform mathematical operation using variables.\n",
    "STATEMENT: It can be an integer or a string etc., It is used to state something as the name suggest or to assign a value to a variable.\n",
    "\n",
    "  **Ex**: \n",
    "  ```\n",
    "        A = 10        #Assignment statement\n",
    "        B = 20        #Assignment statement\n",
    "        C = A+B       #expression which is used as Assignment statement [A+B] is the expression.\n",
    "\n",
    "```\n",
    "\n",
    "---"
   ]
  },
  {
   "cell_type": "markdown",
   "id": "817e92c2",
   "metadata": {},
   "source": [
    "6. *After running the following code, what does the variable bacon contain?*\n",
    "```\n",
    "bacon = 22\n",
    "bacon + 1 \n",
    "```\n",
    "\n",
    "**ANS**: bacon will be 23.\n",
    "    \n",
    "---"
   ]
  },
  {
   "cell_type": "markdown",
   "id": "41a4f11d",
   "metadata": {},
   "source": [
    "7. *What should the values of the following two terms be?*\n",
    "```\n",
    "'spam' + 'spamspam'\n",
    "'spam'* 3\n",
    "```\n",
    "\n",
    "**ANS**: both returns spamspamspam"
   ]
  },
  {
   "cell_type": "code",
   "execution_count": 3,
   "id": "84f59885",
   "metadata": {},
   "outputs": [
    {
     "name": "stdout",
     "output_type": "stream",
     "text": [
      "spamspamspam\n",
      "spamspamspam\n"
     ]
    }
   ],
   "source": [
    "print('spam' + 'spamspam')\n",
    "print('spam'* 3)"
   ]
  },
  {
   "cell_type": "markdown",
   "id": "58e4c7db",
   "metadata": {},
   "source": [
    "---"
   ]
  },
  {
   "cell_type": "markdown",
   "id": "1a9f93c5",
   "metadata": {},
   "source": [
    "8. *Why is eggs a valid variable name while 100 is invalid?*\n",
    "\n",
    "**ANS**: There are set of instructions and rules to name a variable. [eggs] start with a cahrecter and it is a valid variable name where as [100] begins with an integer or is entirely an integer which cannot allowed to name a variable so it is in valid.\n",
    "\n",
    "---"
   ]
  },
  {
   "cell_type": "markdown",
   "id": "7b02d763",
   "metadata": {},
   "source": [
    "9. *What three functions can be used to get the integer, floating-point number, or string version of a value?*\n",
    "\n",
    "**ANS**:\n",
    "int() , float() and str() are the three functions. Lets say the value is 56 then, "
   ]
  },
  {
   "cell_type": "code",
   "execution_count": 8,
   "id": "7ac85c90",
   "metadata": {},
   "outputs": [
    {
     "name": "stdout",
     "output_type": "stream",
     "text": [
      "Interger version : 56 and type : <class 'int'>\n",
      "Float-point number version : 56.0 and type : <class 'float'>\n",
      "String version : 56 and type : <class 'str'>\n"
     ]
    }
   ],
   "source": [
    "a = int(56)\n",
    "b = float(56)\n",
    "c = str(56)\n",
    "\n",
    "print(\"Interger version : {0} and type : {1}\\nFloat-point number version : {2} and type : {3}\\nString version : {4} and type : {5}\".format(a,type(a),b,type(b),c,type(c)))"
   ]
  },
  {
   "cell_type": "markdown",
   "id": "756fe2df",
   "metadata": {},
   "source": [
    "---"
   ]
  },
  {
   "cell_type": "markdown",
   "id": "a2869cc4",
   "metadata": {},
   "source": [
    "10. Why does this expression cause an error? How can you fix it?\n",
    "```\n",
    "'I have eaten' + 99 + 'burritos.'\n",
    "```\n",
    "\n",
    "**ANS**: String concantenation is only possible if all the chunks are of same string type. String concantenation fails if we tried to concantenate and integer. Below is the response from the compiler when we tried to perform this action"
   ]
  },
  {
   "cell_type": "code",
   "execution_count": 10,
   "id": "2c827401",
   "metadata": {},
   "outputs": [
    {
     "ename": "TypeError",
     "evalue": "can only concatenate str (not \"int\") to str",
     "output_type": "error",
     "traceback": [
      "\u001b[1;31m---------------------------------------------------------------------------\u001b[0m",
      "\u001b[1;31mTypeError\u001b[0m                                 Traceback (most recent call last)",
      "\u001b[1;32m<ipython-input-10-f5781a105d59>\u001b[0m in \u001b[0;36m<module>\u001b[1;34m\u001b[0m\n\u001b[1;32m----> 1\u001b[1;33m \u001b[1;34m'I have eaten'\u001b[0m \u001b[1;33m+\u001b[0m \u001b[1;36m99\u001b[0m \u001b[1;33m+\u001b[0m \u001b[1;34m'burritos.'\u001b[0m\u001b[1;33m\u001b[0m\u001b[1;33m\u001b[0m\u001b[0m\n\u001b[0m",
      "\u001b[1;31mTypeError\u001b[0m: can only concatenate str (not \"int\") to str"
     ]
    }
   ],
   "source": [
    "'I have eaten' + 99 + 'burritos.'"
   ]
  },
  {
   "cell_type": "code",
   "execution_count": 12,
   "id": "948b1edb",
   "metadata": {},
   "outputs": [
    {
     "data": {
      "text/plain": [
       "'I have eaten 99 burritos.'"
      ]
     },
     "execution_count": 12,
     "metadata": {},
     "output_type": "execute_result"
    }
   ],
   "source": [
    "# Instead we can do the following\n",
    "\n",
    "'I have eaten' + ' 99 ' + 'burritos.'"
   ]
  },
  {
   "cell_type": "markdown",
   "id": "f6cde02d",
   "metadata": {},
   "source": [
    "---"
   ]
  },
  {
   "cell_type": "markdown",
   "id": "1cacee73",
   "metadata": {},
   "source": [
    "# ----------------------------------- END OF ASSIGNMENT 1 -----------------------------------"
   ]
  }
 ],
 "metadata": {
  "kernelspec": {
   "display_name": "Python 3",
   "language": "python",
   "name": "python3"
  },
  "language_info": {
   "codemirror_mode": {
    "name": "ipython",
    "version": 3
   },
   "file_extension": ".py",
   "mimetype": "text/x-python",
   "name": "python",
   "nbconvert_exporter": "python",
   "pygments_lexer": "ipython3",
   "version": "3.8.8"
  }
 },
 "nbformat": 4,
 "nbformat_minor": 5
}

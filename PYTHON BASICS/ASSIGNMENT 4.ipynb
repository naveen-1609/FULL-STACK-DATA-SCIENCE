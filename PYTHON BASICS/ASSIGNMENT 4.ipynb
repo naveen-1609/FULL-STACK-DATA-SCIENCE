{
 "cells": [
  {
   "cell_type": "markdown",
   "id": "0bd79fe2",
   "metadata": {},
   "source": [
    "## Questions:\n",
    "\n",
    "Assignment questions link: \n",
    "https://drive.google.com/file/d/1zdWsymBu3P-L27CnBViY8MSeedeSc_2Y/view"
   ]
  },
  {
   "cell_type": "markdown",
   "id": "62628ad8",
   "metadata": {},
   "source": [
    "---"
   ]
  },
  {
   "cell_type": "markdown",
   "id": "ec94b336",
   "metadata": {},
   "source": [
    "1. What exactly is []?"
   ]
  },
  {
   "cell_type": "markdown",
   "id": "eda7530a",
   "metadata": {},
   "source": [
    "**ANS:** [] indicates an empty list, we can use it to initialize an empty list or make a list empty."
   ]
  },
  {
   "cell_type": "code",
   "execution_count": 4,
   "id": "38746433",
   "metadata": {},
   "outputs": [
    {
     "name": "stdout",
     "output_type": "stream",
     "text": [
      "This is an empty list: []\n",
      "We made v into an empty list: []\n"
     ]
    }
   ],
   "source": [
    "ls = []\n",
    "print(\"This is an empty list: {}\".format(ls))\n",
    "\n",
    "v = [1,2,3]\n",
    "v = ls\n",
    "print(\"We made v into an empty list: {}\".format(v))"
   ]
  },
  {
   "cell_type": "markdown",
   "id": "02aec5ec",
   "metadata": {},
   "source": [
    "---"
   ]
  },
  {
   "cell_type": "markdown",
   "id": "6a47ca61",
   "metadata": {},
   "source": [
    "2. In a list of values stored in a variable called spam, how would you assign the value &#39;hello&#39; as the third value? (Assume [2, 4, 6, 8, 10] are in spam.)"
   ]
  },
  {
   "cell_type": "code",
   "execution_count": 10,
   "id": "ce7f6faf",
   "metadata": {},
   "outputs": [
    {
     "data": {
      "text/plain": [
       "[2, 4, 'hello', 8, 10]"
      ]
     },
     "execution_count": 10,
     "metadata": {},
     "output_type": "execute_result"
    }
   ],
   "source": [
    "spam = [2,4,6,8,10]\n",
    "\n",
    "spam[2] = 'hello' #since list indexing starts with 0, 2 resembles third element of the list\n",
    "\n",
    "spam"
   ]
  },
  {
   "cell_type": "markdown",
   "id": "8e339261",
   "metadata": {},
   "source": [
    "---"
   ]
  },
  {
   "cell_type": "markdown",
   "id": "ecfa10fd",
   "metadata": {},
   "source": [
    "#### Let&#39;s pretend the spam includes the list [&#39;a&#39;, &#39;b&#39;, &#39;c&#39;, &#39;d&#39;] for the next three queries."
   ]
  },
  {
   "cell_type": "markdown",
   "id": "d0dfac8d",
   "metadata": {},
   "source": [
    "---"
   ]
  },
  {
   "cell_type": "markdown",
   "id": "5c267639",
   "metadata": {},
   "source": [
    "3. What is the value of spam[int(int(&#39;3&#39; * 2) / 11)]?"
   ]
  },
  {
   "cell_type": "code",
   "execution_count": 17,
   "id": "672745a8",
   "metadata": {},
   "outputs": [
    {
     "data": {
      "text/plain": [
       "'d'"
      ]
     },
     "execution_count": 17,
     "metadata": {},
     "output_type": "execute_result"
    }
   ],
   "source": [
    "spam = ['a','b','c','d']\n",
    "\n",
    "a = spam[int(int('3'*2)/11)]\n",
    "\n",
    "a"
   ]
  },
  {
   "cell_type": "markdown",
   "id": "c9dc9646",
   "metadata": {},
   "source": [
    "---"
   ]
  },
  {
   "cell_type": "markdown",
   "id": "783a29d3",
   "metadata": {},
   "source": [
    "4. What is the value of spam[-1]?"
   ]
  },
  {
   "cell_type": "code",
   "execution_count": 18,
   "id": "90790328",
   "metadata": {},
   "outputs": [
    {
     "data": {
      "text/plain": [
       "'d'"
      ]
     },
     "execution_count": 18,
     "metadata": {},
     "output_type": "execute_result"
    }
   ],
   "source": [
    "spam[-1] # -1 return the last element of the list"
   ]
  },
  {
   "cell_type": "markdown",
   "id": "c73a9462",
   "metadata": {},
   "source": [
    "---"
   ]
  },
  {
   "cell_type": "markdown",
   "id": "efb219c8",
   "metadata": {},
   "source": [
    "5. What is the value of spam[:2]?"
   ]
  },
  {
   "cell_type": "code",
   "execution_count": 19,
   "id": "f0c4a7f0",
   "metadata": {},
   "outputs": [
    {
     "data": {
      "text/plain": [
       "['a', 'b']"
      ]
     },
     "execution_count": 19,
     "metadata": {},
     "output_type": "execute_result"
    }
   ],
   "source": [
    "spam[:2] \n",
    "# [lowerlimit : upperlimit], in this case lower limit is absent so it consider first element as LL \n",
    "# and return elements upto UL, and UL element is neglected"
   ]
  },
  {
   "cell_type": "markdown",
   "id": "c4f5b0a4",
   "metadata": {},
   "source": [
    "---"
   ]
  },
  {
   "cell_type": "markdown",
   "id": "2316b16c",
   "metadata": {},
   "source": [
    "#### Let&#39;s pretend bacon has the list [3.14, &#39;cat,&#39; 11, &#39;cat,&#39; True] for the next three questions."
   ]
  },
  {
   "cell_type": "markdown",
   "id": "21ef8118",
   "metadata": {},
   "source": [
    "---"
   ]
  },
  {
   "cell_type": "markdown",
   "id": "7ea3aeb0",
   "metadata": {},
   "source": [
    "6. What is the value of bacon.index(&#39;cat&#39;)?"
   ]
  },
  {
   "cell_type": "code",
   "execution_count": 27,
   "id": "e5a665b9",
   "metadata": {},
   "outputs": [
    {
     "data": {
      "text/plain": [
       "1"
      ]
     },
     "execution_count": 27,
     "metadata": {},
     "output_type": "execute_result"
    }
   ],
   "source": [
    "bacon = [3.14,'cat',11, 'cat',True]\n",
    "\n",
    "bacon.index('cat') # index considers the very first index of that element"
   ]
  },
  {
   "cell_type": "markdown",
   "id": "1e97b08e",
   "metadata": {},
   "source": [
    "---"
   ]
  },
  {
   "cell_type": "markdown",
   "id": "a68eb3bb",
   "metadata": {},
   "source": [
    "7. How does bacon.append(99) change the look of the list value in bacon?"
   ]
  },
  {
   "cell_type": "code",
   "execution_count": 28,
   "id": "c525e8c6",
   "metadata": {},
   "outputs": [
    {
     "data": {
      "text/plain": [
       "[3.14, 'cat', 11, 'cat', True, 99]"
      ]
     },
     "execution_count": 28,
     "metadata": {},
     "output_type": "execute_result"
    }
   ],
   "source": [
    "bacon.append(99) #it inserts 99 at the end of the list and the list size changes \n",
    "\n",
    "bacon"
   ]
  },
  {
   "cell_type": "markdown",
   "id": "42fd32be",
   "metadata": {},
   "source": [
    "---"
   ]
  },
  {
   "cell_type": "markdown",
   "id": "25221d7a",
   "metadata": {},
   "source": [
    "8. How does bacon.remove(&#39;cat&#39;) change the look of the list in bacon?"
   ]
  },
  {
   "cell_type": "code",
   "execution_count": 29,
   "id": "91b83d23",
   "metadata": {},
   "outputs": [
    {
     "data": {
      "text/plain": [
       "[3.14, 11, 'cat', True, 99]"
      ]
     },
     "execution_count": 29,
     "metadata": {},
     "output_type": "execute_result"
    }
   ],
   "source": [
    "bacon.remove('cat') #it removes where that value first appears from left\n",
    "\n",
    "bacon "
   ]
  },
  {
   "cell_type": "markdown",
   "id": "64ed9658",
   "metadata": {},
   "source": [
    "---"
   ]
  },
  {
   "cell_type": "markdown",
   "id": "b20ebe5a",
   "metadata": {},
   "source": [
    "9. What are the list concatenation and list replication operators?"
   ]
  },
  {
   "cell_type": "markdown",
   "id": "b13a44ef",
   "metadata": {},
   "source": [
    "**ANS:** *List concatenation* = L1 + L2; *List replication* = List*integer"
   ]
  },
  {
   "cell_type": "code",
   "execution_count": 32,
   "id": "52f5f0ff",
   "metadata": {},
   "outputs": [
    {
     "name": "stdout",
     "output_type": "stream",
     "text": [
      "List concatenation: [1, 2, 3, 'a', 'b', 'c'] \n",
      "List replication: [1, 2, 3, 'a', 'b', 'c', 1, 2, 3, 'a', 'b', 'c', 1, 2, 3, 'a', 'b', 'c']\n"
     ]
    }
   ],
   "source": [
    "#List concatenation:\n",
    "L1 = [1,2,3]\n",
    "L2 = ['a','b','c']\n",
    "L = L1 + L2\n",
    "\n",
    "#List replication:\n",
    "Lr = L*3\n",
    "\n",
    "print(\"List concatenation: {0} \\nList replication: {1}\".format(L,Lr))"
   ]
  },
  {
   "cell_type": "markdown",
   "id": "36508cf9",
   "metadata": {},
   "source": [
    "---"
   ]
  },
  {
   "cell_type": "markdown",
   "id": "57481e72",
   "metadata": {},
   "source": [
    "10. What is difference between the list methods append() and insert()?"
   ]
  },
  {
   "cell_type": "markdown",
   "id": "689befe3",
   "metadata": {},
   "source": [
    "**ANS:** *append()* can only insert an element at the end of the list where as *insert()* can insert an element in between the list"
   ]
  },
  {
   "cell_type": "code",
   "execution_count": 34,
   "id": "d13c7086",
   "metadata": {},
   "outputs": [
    {
     "name": "stdout",
     "output_type": "stream",
     "text": [
      "[1, 2, 3, 4] ;  4 is appended at the end\n",
      "['a', 'b', 'c', 'd'] ;  c is inserted at the index 2\n"
     ]
    }
   ],
   "source": [
    "ls = [1,2,3]\n",
    "ls.append(4)\n",
    "print(\"{} ;  4 is appended at the end\".format(ls))\n",
    "\n",
    "lt = ['a','b','d']\n",
    "lt.insert(2,'c')\n",
    "print(\"{} ;  c is inserted at the index 2\".format(lt))"
   ]
  },
  {
   "cell_type": "markdown",
   "id": "fa8da717",
   "metadata": {},
   "source": [
    "---"
   ]
  },
  {
   "cell_type": "markdown",
   "id": "b42fa35b",
   "metadata": {},
   "source": [
    "11. What are the two methods for removing items from a list?"
   ]
  },
  {
   "cell_type": "markdown",
   "id": "e0f62562",
   "metadata": {},
   "source": [
    "**ANS:** pop() and remove() are the two methods for removing an item from a list"
   ]
  },
  {
   "cell_type": "code",
   "execution_count": 38,
   "id": "9ac64f35",
   "metadata": {},
   "outputs": [
    {
     "name": "stdout",
     "output_type": "stream",
     "text": [
      "[1, 2, 3, 4] = pop()\n",
      "['dog', 'cat'] = remove()\n"
     ]
    }
   ],
   "source": [
    "lst = [1,2,3,5,4]\n",
    "lst.pop(3) #removes element from that specified index\n",
    "\n",
    "ls1 = ['cat','dog','cat']\n",
    "ls1.remove('cat') #removes specified element from the first index position it appears in the list\n",
    "\n",
    "print('{} = pop()\\n{} = remove()'.format(lst,ls1))"
   ]
  },
  {
   "cell_type": "markdown",
   "id": "1f5b0101",
   "metadata": {},
   "source": [
    "---"
   ]
  },
  {
   "cell_type": "markdown",
   "id": "38960fb1",
   "metadata": {},
   "source": [
    "12. Describe how list values and string values are identical."
   ]
  },
  {
   "cell_type": "markdown",
   "id": "ddf5ab24",
   "metadata": {},
   "source": [
    "**ANS:** Both list and string values are sequential"
   ]
  },
  {
   "cell_type": "code",
   "execution_count": 40,
   "id": "964cfae0",
   "metadata": {},
   "outputs": [
    {
     "name": "stdout",
     "output_type": "stream",
     "text": [
      "identical\n"
     ]
    }
   ],
   "source": [
    "st = 'abcd'\n",
    "ls = ['a','b','c','d']\n",
    "\n",
    "if st[2] == ls[2]:\n",
    "    print(\"identical\")\n",
    "else:\n",
    "    (\"wrong justification\")"
   ]
  },
  {
   "cell_type": "markdown",
   "id": "1d322ef7",
   "metadata": {},
   "source": [
    "---"
   ]
  },
  {
   "cell_type": "markdown",
   "id": "62a018d7",
   "metadata": {},
   "source": [
    "13. What&#39;s the difference between tuples and lists?"
   ]
  },
  {
   "cell_type": "markdown",
   "id": "fb80b799",
   "metadata": {},
   "source": [
    "**ANS:** "
   ]
  },
  {
   "cell_type": "markdown",
   "id": "73acd9e5",
   "metadata": {},
   "source": [
    "|*LIST*|*TUPLE*|\n",
    "|----------------|-----------------|\n",
    "| Mutable| Immutable|\n",
    "| Syntax = []| Syntax = ()|\n",
    "| more methods are available when compared to tuple| contains less operations compared to list|\n",
    "| occupies large space compared to tuple| occupies less space|"
   ]
  },
  {
   "cell_type": "markdown",
   "id": "2b6f8a2c",
   "metadata": {},
   "source": [
    "---"
   ]
  },
  {
   "cell_type": "markdown",
   "id": "7e1a1f8b",
   "metadata": {},
   "source": [
    "14. How do you type a tuple value that only contains the integer 42?"
   ]
  },
  {
   "cell_type": "code",
   "execution_count": 48,
   "id": "284c21a0",
   "metadata": {},
   "outputs": [
    {
     "name": "stdout",
     "output_type": "stream",
     "text": [
      "without ',' : <class 'int'>\n",
      "with ',' : <class 'tuple'> \n"
     ]
    }
   ],
   "source": [
    "a = (42)\n",
    "\n",
    "b = (42,) #we need to specify \",\" at the end or else it considered as integer\n",
    "\n",
    "print(\"without ',' : {0}\\nwith ',' : {1} \".format(type(a),type(b)))"
   ]
  },
  {
   "cell_type": "markdown",
   "id": "ef5511df",
   "metadata": {},
   "source": [
    "---"
   ]
  },
  {
   "cell_type": "markdown",
   "id": "a755330d",
   "metadata": {},
   "source": [
    "15. How do you get a list value&#39;s tuple form? How do you get a tuple value&#39;s list form?"
   ]
  },
  {
   "cell_type": "markdown",
   "id": "a41653d3",
   "metadata": {},
   "source": [
    "**ANS:** we can use type casting"
   ]
  },
  {
   "cell_type": "code",
   "execution_count": 49,
   "id": "6dbc0f54",
   "metadata": {},
   "outputs": [
    {
     "name": "stdout",
     "output_type": "stream",
     "text": [
      "tuple to list : <class 'list'>\n",
      "list  to tuple ',' : <class 'tuple'> \n"
     ]
    }
   ],
   "source": [
    "a = (a,b,)\n",
    "\n",
    "b = list(a)\n",
    "\n",
    "b1 = tuple(b)\n",
    "\n",
    "print(\"tuple to list : {0}\\nlist  to tuple ',' : {1} \".format(type(b),type(b1)))"
   ]
  },
  {
   "cell_type": "markdown",
   "id": "b0839864",
   "metadata": {},
   "source": [
    "---"
   ]
  },
  {
   "cell_type": "markdown",
   "id": "17e9fe1a",
   "metadata": {},
   "source": [
    "16. Variables that &quot;contain&quot; list values are not necessarily lists themselves. Instead, what do they\n",
    "contain?"
   ]
  },
  {
   "cell_type": "markdown",
   "id": "19a8500c",
   "metadata": {},
   "source": [
    "**ANS:** They contain a reference to that values. when ever we create a list of value, python creates a reference which points to those values."
   ]
  },
  {
   "cell_type": "markdown",
   "id": "27412072",
   "metadata": {},
   "source": [
    "---"
   ]
  },
  {
   "cell_type": "markdown",
   "id": "21b491d9",
   "metadata": {},
   "source": [
    "17. How do you distinguish between copy.copy() and copy.deepcopy()?"
   ]
  },
  {
   "cell_type": "markdown",
   "id": "96b45e35",
   "metadata": {},
   "source": [
    "The copy.copy() functionwill shallow copy a list whereas, The copy.deepcopy() will duplicate any lists inside the list"
   ]
  },
  {
   "cell_type": "code",
   "execution_count": 53,
   "id": "a419f80e",
   "metadata": {},
   "outputs": [
    {
     "name": "stdout",
     "output_type": "stream",
     "text": [
      "copy.copy()\n",
      "------------\n",
      "1934230417984\n",
      "1934230249024\n",
      "1934230248832\n",
      "1934230248832\n",
      "------------\n",
      "copy.deepcopy()\n",
      "------------\n",
      "1934230417984\n",
      "1934230249216\n",
      "1934230248832\n",
      "1934230404864\n",
      "------------\n"
     ]
    }
   ],
   "source": [
    "import copy\n",
    "\n",
    "lst = [1,[2,3],4]\n",
    "\n",
    "#copy\n",
    "print(\"copy.copy()\")\n",
    "print(\"------------\")\n",
    "just_copy = copy.copy(lst)\n",
    "print(id(lst))\n",
    "print(id(just_copy))\n",
    "print(id(lst[1]))  #i\n",
    "print(id(just_copy[1])) #j\n",
    "#i and j are equal so the nested list is not copied\n",
    "print(\"------------\")\n",
    "\n",
    "#Deep copy\n",
    "deep_copy = copy.deepcopy(lst)\n",
    "print(\"copy.deepcopy()\")\n",
    "print(\"------------\")\n",
    "print(id(lst))\n",
    "print(id(deep_copy))\n",
    "print(id(lst[1])) #x\n",
    "print(id(deep_copy[1])) #y\n",
    "#x and y are different that means the nested list is copied and refered to another location\n",
    "print(\"------------\")"
   ]
  },
  {
   "cell_type": "markdown",
   "id": "af218d11",
   "metadata": {},
   "source": [
    "---"
   ]
  },
  {
   "cell_type": "markdown",
   "id": "43458bbd",
   "metadata": {},
   "source": [
    "# ----------------------------------- END OF ASSIGNMENT 4 -----------------------------------"
   ]
  }
 ],
 "metadata": {
  "kernelspec": {
   "display_name": "Python 3",
   "language": "python",
   "name": "python3"
  },
  "language_info": {
   "codemirror_mode": {
    "name": "ipython",
    "version": 3
   },
   "file_extension": ".py",
   "mimetype": "text/x-python",
   "name": "python",
   "nbconvert_exporter": "python",
   "pygments_lexer": "ipython3",
   "version": "3.8.8"
  }
 },
 "nbformat": 4,
 "nbformat_minor": 5
}

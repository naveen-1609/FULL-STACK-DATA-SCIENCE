{
 "cells": [
  {
   "cell_type": "markdown",
   "id": "5751fb6d",
   "metadata": {},
   "source": [
    "## Questions\n",
    "\n",
    "Assignment questions link: \n",
    "https://drive.google.com/file/d/1QWVvv8aC4OcCHRHhXI2eY6l1K7Y60V2J/view"
   ]
  },
  {
   "cell_type": "markdown",
   "id": "d877b22a",
   "metadata": {},
   "source": [
    "1. What are escape characters, and how do you use them?"
   ]
  },
  {
   "cell_type": "markdown",
   "id": "4598b7cd",
   "metadata": {},
   "source": [
    "**ANS:** An escape charecter is used when we tried to input an string which is not following a conventional syntax."
   ]
  },
  {
   "cell_type": "code",
   "execution_count": 1,
   "id": "43364ac0",
   "metadata": {},
   "outputs": [
    {
     "ename": "SyntaxError",
     "evalue": "invalid syntax (<ipython-input-1-43f6dd6f91b3>, line 1)",
     "output_type": "error",
     "traceback": [
      "\u001b[1;36m  File \u001b[1;32m\"<ipython-input-1-43f6dd6f91b3>\"\u001b[1;36m, line \u001b[1;32m1\u001b[0m\n\u001b[1;33m    string = (\"This is a \"Fulll Stack Data Science\"program\")  #The expected string is This is a \"Full Stack Data Science\" program\u001b[0m\n\u001b[1;37m                          ^\u001b[0m\n\u001b[1;31mSyntaxError\u001b[0m\u001b[1;31m:\u001b[0m invalid syntax\n"
     ]
    }
   ],
   "source": [
    "string = (\"This is a \"Fulll Stack Data Science\"program\")  #The expected string is This is a \"Full Stack Data Science\" program"
   ]
  },
  {
   "cell_type": "code",
   "execution_count": 2,
   "id": "25b06b01",
   "metadata": {},
   "outputs": [
    {
     "data": {
      "text/plain": [
       "'This is a \"Full Stack Data Science\" program'"
      ]
     },
     "execution_count": 2,
     "metadata": {},
     "output_type": "execute_result"
    }
   ],
   "source": [
    "String = (\"This is a \\\"Full Stack Data Science\\\" program\") # \"/\" is the escape charecter we used and we got our expected string. \n",
    "String"
   ]
  },
  {
   "cell_type": "markdown",
   "id": "e41ea896",
   "metadata": {},
   "source": [
    "#### Types of escape charecters:"
   ]
  },
  {
   "cell_type": "markdown",
   "id": "a572ff00",
   "metadata": {},
   "source": [
    "| charecter  |  use |\n",
    "|---|---|\n",
    "| \\\\' | Single Quote  |\n",
    "| \\\\\\  | Back Slash  |\n",
    "| \\n | new line  |\n",
    "| \\r | Cariage return  |\n",
    "| \\t |  tab |\n",
    "| \\b | backspace  |\n",
    "| \\f |  form feed |\n",
    "| \\ooo |  octa calue |\n",
    "| \\xhh | hexa value"
   ]
  },
  {
   "cell_type": "markdown",
   "id": "13c93dc9",
   "metadata": {},
   "source": [
    "---"
   ]
  },
  {
   "cell_type": "markdown",
   "id": "dae4cea6",
   "metadata": {},
   "source": [
    "2. What do the escape characters n and t stand for?"
   ]
  },
  {
   "cell_type": "markdown",
   "id": "f1ee5e46",
   "metadata": {},
   "source": [
    "**ANS:** escape charecter n stands for new line and t stands for tab"
   ]
  },
  {
   "cell_type": "markdown",
   "id": "840f2719",
   "metadata": {},
   "source": [
    "---"
   ]
  },
  {
   "cell_type": "markdown",
   "id": "d7e32385",
   "metadata": {},
   "source": [
    "3. What is the way to include backslash characters in a string?"
   ]
  },
  {
   "cell_type": "code",
   "execution_count": 11,
   "id": "ddc21b9c",
   "metadata": {},
   "outputs": [
    {
     "name": "stdout",
     "output_type": "stream",
     "text": [
      "This will insert one \\ (backslash).\n"
     ]
    }
   ],
   "source": [
    "bs = \"This will insert one \\\\ (backslash).\"\n",
    "print(bs) "
   ]
  },
  {
   "cell_type": "markdown",
   "id": "83e3aaa0",
   "metadata": {},
   "source": [
    "---"
   ]
  },
  {
   "cell_type": "markdown",
   "id": "3f35f5ee",
   "metadata": {},
   "source": [
    "4. The string &quot;Howl&#39;s Moving Castle&quot; is a correct value. Why isn&#39;t the single quote character in the word Howl&#39;s not escaped a problem?"
   ]
  },
  {
   "cell_type": "markdown",
   "id": "277825aa",
   "metadata": {},
   "source": [
    "**ANS:** Because we are using different quotes. If we had used \" then we might get a problem"
   ]
  },
  {
   "cell_type": "code",
   "execution_count": 12,
   "id": "9838c475",
   "metadata": {},
   "outputs": [
    {
     "data": {
      "text/plain": [
       "\"Manager's daughter is crying\""
      ]
     },
     "execution_count": 12,
     "metadata": {},
     "output_type": "execute_result"
    }
   ],
   "source": [
    "string = (\"Manager's daughter is crying\")\n",
    "string"
   ]
  },
  {
   "cell_type": "code",
   "execution_count": 14,
   "id": "ceb3438b",
   "metadata": {},
   "outputs": [
    {
     "ename": "SyntaxError",
     "evalue": "invalid syntax (<ipython-input-14-0b6d7ad44e70>, line 1)",
     "output_type": "error",
     "traceback": [
      "\u001b[1;36m  File \u001b[1;32m\"<ipython-input-14-0b6d7ad44e70>\"\u001b[1;36m, line \u001b[1;32m1\u001b[0m\n\u001b[1;33m    string = (\"Manager\"s daughter is crying\")\u001b[0m\n\u001b[1;37m                       ^\u001b[0m\n\u001b[1;31mSyntaxError\u001b[0m\u001b[1;31m:\u001b[0m invalid syntax\n"
     ]
    }
   ],
   "source": [
    "string = (\"Manager\"s daughter is crying\")"
   ]
  },
  {
   "cell_type": "markdown",
   "id": "d252a075",
   "metadata": {},
   "source": [
    "---"
   ]
  },
  {
   "cell_type": "markdown",
   "id": "3fb61b64",
   "metadata": {},
   "source": [
    "5. How do you write a string of newlines if you don&#39;t want to use the n character?"
   ]
  },
  {
   "cell_type": "markdown",
   "id": "a593d3db",
   "metadata": {},
   "source": [
    "**ANS:** We can use multi line string { '''........... ''' }"
   ]
  },
  {
   "cell_type": "code",
   "execution_count": 24,
   "id": "84c96f37",
   "metadata": {},
   "outputs": [
    {
     "name": "stdout",
     "output_type": "stream",
     "text": [
      "Ok tested\n",
      "not ok tested\n"
     ]
    }
   ],
   "source": [
    "stri = '''Ok tested\n",
    "not ok tested'''\n",
    "print(stri)"
   ]
  },
  {
   "cell_type": "markdown",
   "id": "b48e9a05",
   "metadata": {},
   "source": [
    "---"
   ]
  },
  {
   "cell_type": "markdown",
   "id": "ab552485",
   "metadata": {},
   "source": [
    "6. What are the values of the given expressions? &#39;Hello, world!&#39;[1] &#39;Hello, world!&#39;[0:5] &#39;Hello, world!&#39;[:5] &#39;Hello, world!&#39;[3:]"
   ]
  },
  {
   "cell_type": "code",
   "execution_count": 27,
   "id": "748d7e85",
   "metadata": {},
   "outputs": [
    {
     "name": "stdout",
     "output_type": "stream",
     "text": [
      "Hello, world[1] : e\n",
      "Hello, world![0:5] : Hello\n",
      "Hello, world![:5] : Hello\n",
      "Hello, world![3:] : lo, world!\n"
     ]
    }
   ],
   "source": [
    "stg = 'Hello, world!'\n",
    "print(\"Hello, world[1] : {}\".format(stg[1]))\n",
    "print(\"Hello, world![0:5] : {}\".format(stg[0:5]))  \n",
    "print(\"Hello, world![:5] : {}\".format(stg[:5]))  \n",
    "print(\"Hello, world![3:] : {}\".format(stg[3:]))  "
   ]
  },
  {
   "cell_type": "markdown",
   "id": "6e1b68f2",
   "metadata": {},
   "source": [
    "---"
   ]
  },
  {
   "cell_type": "markdown",
   "id": "6a8c2f67",
   "metadata": {},
   "source": [
    "7. What are the values of the following expressions? &#39;Hello&#39;.upper() &#39;Hello&#39;.upper().isupper() &#39;Hello&#39;.upper().lower()"
   ]
  },
  {
   "cell_type": "code",
   "execution_count": 28,
   "id": "112c261e",
   "metadata": {},
   "outputs": [
    {
     "name": "stdout",
     "output_type": "stream",
     "text": [
      "HELLO\n",
      "True\n",
      "hello\n"
     ]
    }
   ],
   "source": [
    "print('Hello'.upper()) \n",
    "print('Hello'.upper().isupper()) \n",
    "print('Hello'.upper().lower())"
   ]
  },
  {
   "cell_type": "markdown",
   "id": "24b3e640",
   "metadata": {},
   "source": [
    "---"
   ]
  },
  {
   "cell_type": "markdown",
   "id": "3cdeeac5",
   "metadata": {},
   "source": [
    "8. What are the values of the following expressions? &#39;Remember, remember, the fifth of July.&#39;.split() &#39;-&#39;.join(&#39;There can only one.&#39;.split())"
   ]
  },
  {
   "cell_type": "code",
   "execution_count": 32,
   "id": "695732a8",
   "metadata": {},
   "outputs": [
    {
     "name": "stdout",
     "output_type": "stream",
     "text": [
      "['Remember,', 'remember,', 'the', 'fifth', 'of', 'July.']\n",
      "There-can-only-one.\n"
     ]
    }
   ],
   "source": [
    "print('Remember, remember, the fifth of July.'.split()) \n",
    "print('-'.join('There can only one.'.split()))"
   ]
  },
  {
   "cell_type": "markdown",
   "id": "aa9209e4",
   "metadata": {},
   "source": [
    "---"
   ]
  },
  {
   "cell_type": "markdown",
   "id": "4641e09e",
   "metadata": {},
   "source": [
    "9. What are the methods for right-justifying, left-justifying, and centering a string?"
   ]
  },
  {
   "cell_type": "markdown",
   "id": "b74c09d5",
   "metadata": {},
   "source": [
    "**ANS:** rjust(); ljust(); center methods respectively"
   ]
  },
  {
   "cell_type": "markdown",
   "id": "d22e8d14",
   "metadata": {},
   "source": [
    "---"
   ]
  },
  {
   "cell_type": "markdown",
   "id": "66949844",
   "metadata": {},
   "source": [
    "10. What is the best way to remove whitespace characters from the start or end?"
   ]
  },
  {
   "cell_type": "code",
   "execution_count": 37,
   "id": "2c7c86e7",
   "metadata": {},
   "outputs": [
    {
     "name": "stdout",
     "output_type": "stream",
     "text": [
      "OK Mari\n",
      "OK Mari\n",
      "7\n",
      "7\n"
     ]
    }
   ],
   "source": [
    "# to ermove white spaces at the start:\n",
    "\n",
    "string = \"  OK Mari\"\n",
    "print(string.lstrip())\n",
    "\n",
    "str2 = \"OK Mari   \"\n",
    "print(str2.rstrip())\n",
    "\n",
    "print(len(string.lstrip()))\n",
    "print(len(str2.rstrip()))"
   ]
  },
  {
   "cell_type": "markdown",
   "id": "03239b48",
   "metadata": {},
   "source": [
    "---"
   ]
  },
  {
   "cell_type": "markdown",
   "id": "fd5345d0",
   "metadata": {},
   "source": [
    "# ----------------------------------- END OF ASSIGNMENT 6 -----------------------------------"
   ]
  }
 ],
 "metadata": {
  "kernelspec": {
   "display_name": "Python 3",
   "language": "python",
   "name": "python3"
  },
  "language_info": {
   "codemirror_mode": {
    "name": "ipython",
    "version": 3
   },
   "file_extension": ".py",
   "mimetype": "text/x-python",
   "name": "python",
   "nbconvert_exporter": "python",
   "pygments_lexer": "ipython3",
   "version": "3.8.8"
  }
 },
 "nbformat": 4,
 "nbformat_minor": 5
}

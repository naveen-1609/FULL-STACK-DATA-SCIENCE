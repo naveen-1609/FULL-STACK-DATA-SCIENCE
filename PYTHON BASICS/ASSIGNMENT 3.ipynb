{
 "cells": [
  {
   "cell_type": "markdown",
   "id": "1854c01b",
   "metadata": {},
   "source": [
    "## Questions:\n",
    "\n",
    "Assignment questions link: https://drive.google.com/file/d/1vU3MvFrIILi8Ma57Ft0MzF_PzYxoIH5Y/view"
   ]
  },
  {
   "cell_type": "markdown",
   "id": "8591389d",
   "metadata": {},
   "source": [
    "1. Why are functions advantageous to have in your programs?"
   ]
  },
  {
   "cell_type": "markdown",
   "id": "fc2040db",
   "metadata": {},
   "source": [
    "**ANS**: Functions are just blocks of code, they can be reusable which avoids function rewritting problem.\n",
    "It also make the code easier to understand so that when required changes can be made easily."
   ]
  },
  {
   "cell_type": "markdown",
   "id": "2de831ad",
   "metadata": {},
   "source": [
    "2. When does the code in a function run: when it's specified or when it's called?"
   ]
  },
  {
   "cell_type": "markdown",
   "id": "d1bb5d7c",
   "metadata": {},
   "source": [
    "**ANS**: When the function is **called** the compiler leaves the current flow and starts reading the firstline of the function. Therefore, code in the function runs when its called."
   ]
  },
  {
   "cell_type": "markdown",
   "id": "3855c7c4",
   "metadata": {},
   "source": [
    "3. What statement creates a function?"
   ]
  },
  {
   "cell_type": "markdown",
   "id": "7f511300",
   "metadata": {},
   "source": [
    "**ANS**: The **def** keyword is used for defining a function .A complete function block consist of def keyword, function name, parameters, and the statements it executes."
   ]
  },
  {
   "cell_type": "code",
   "execution_count": 4,
   "id": "ad8a24ec",
   "metadata": {},
   "outputs": [],
   "source": [
    "def function(parameters):   #function keyword, name of the function and args\n",
    "    pass  #statements"
   ]
  },
  {
   "cell_type": "markdown",
   "id": "77318ffd",
   "metadata": {},
   "source": [
    "4. What is the difference between a function and a function call?"
   ]
  },
  {
   "cell_type": "markdown",
   "id": "b8434c50",
   "metadata": {},
   "source": [
    "**ANS**: Function is a named sequence of statements that performs some useful operation. Functions may or may not take parameters and may or may not produce a result.Whereas, Function call is a statement that executes a function. It consists of the name of the function followed by a list of arguments enclosed in parentheses."
   ]
  },
  {
   "cell_type": "markdown",
   "id": "d165598a",
   "metadata": {},
   "source": [
    "5. How many global scopes are there in a Python program? How many local scopes?"
   ]
  },
  {
   "cell_type": "markdown",
   "id": "8d5b50ee",
   "metadata": {},
   "source": [
    "**ANS**: There is only one global scope per execution. There can be any number of local scopes."
   ]
  },
  {
   "cell_type": "markdown",
   "id": "88ecc7c7",
   "metadata": {},
   "source": [
    "6. What happens to variables in a local scope when the function call returns?"
   ]
  },
  {
   "cell_type": "markdown",
   "id": "fa444a2a",
   "metadata": {},
   "source": [
    "**ANS**: When the execution of the function terminates (returns), the local variables are destroyed."
   ]
  },
  {
   "cell_type": "markdown",
   "id": "62c6c4a5",
   "metadata": {},
   "source": [
    "7. What is the concept of a return value? Is it possible to have a return value in an expression?"
   ]
  },
  {
   "cell_type": "markdown",
   "id": "a7bb25f3",
   "metadata": {},
   "source": [
    "**ANS**: A return statement is used to end the execution of the function call and “returns” the result to the caller. The statements after the return statements are not executed. If the return statement is without any expression, then the special value None is returned."
   ]
  },
  {
   "cell_type": "markdown",
   "id": "029bd019",
   "metadata": {},
   "source": [
    "8. If a function does not have a return statement, what is the return value of a call to that function?"
   ]
  },
  {
   "cell_type": "markdown",
   "id": "03dad965",
   "metadata": {},
   "source": [
    "**ANS:** The return value of a call to that function would be *NONE*. We can refer to the below example:"
   ]
  },
  {
   "cell_type": "code",
   "execution_count": 2,
   "id": "863e222e",
   "metadata": {},
   "outputs": [],
   "source": [
    "def function(a,b):\n",
    "    a+b"
   ]
  },
  {
   "cell_type": "code",
   "execution_count": 3,
   "id": "deee362a",
   "metadata": {},
   "outputs": [],
   "source": [
    "function(5,6)"
   ]
  },
  {
   "cell_type": "markdown",
   "id": "453e673f",
   "metadata": {},
   "source": [
    "9. How do you make a function variable refer to the global variable?"
   ]
  },
  {
   "cell_type": "markdown",
   "id": "9ea3da7f",
   "metadata": {},
   "source": [
    "**ANS:** We use *global* keyword in order to declare global variable"
   ]
  },
  {
   "cell_type": "code",
   "execution_count": 6,
   "id": "b2cfc8b6",
   "metadata": {},
   "outputs": [
    {
     "data": {
      "text/plain": [
       "30"
      ]
     },
     "execution_count": 6,
     "metadata": {},
     "output_type": "execute_result"
    }
   ],
   "source": [
    "def Global():\n",
    "    global a\n",
    "    a = 10\n",
    "    b = 20\n",
    "    return a+b\n",
    "def func():\n",
    "    c = 10\n",
    "    return c+a\n",
    "Global()"
   ]
  },
  {
   "cell_type": "code",
   "execution_count": 7,
   "id": "6903dfc5",
   "metadata": {},
   "outputs": [
    {
     "data": {
      "text/plain": [
       "20"
      ]
     },
     "execution_count": 7,
     "metadata": {},
     "output_type": "execute_result"
    }
   ],
   "source": [
    "func() #we use global variable a in this function"
   ]
  },
  {
   "cell_type": "markdown",
   "id": "f11792e0",
   "metadata": {},
   "source": [
    "10. What is the data type of None?"
   ]
  },
  {
   "cell_type": "markdown",
   "id": "71320d01",
   "metadata": {},
   "source": [
    "**ANS:** None is usually denotes no value and *NoneType* is the data type od None "
   ]
  },
  {
   "cell_type": "code",
   "execution_count": 10,
   "id": "9a75b76a",
   "metadata": {},
   "outputs": [
    {
     "data": {
      "text/plain": [
       "NoneType"
      ]
     },
     "execution_count": 10,
     "metadata": {},
     "output_type": "execute_result"
    }
   ],
   "source": [
    "type(None)"
   ]
  },
  {
   "cell_type": "markdown",
   "id": "7e12b900",
   "metadata": {},
   "source": [
    "11. What does the sentence import areallyourpetsnamederic do?"
   ]
  },
  {
   "cell_type": "markdown",
   "id": "3312f9b1",
   "metadata": {},
   "source": [
    "**ANS:** This is not a real python module as we can see below but, if we create a module name *areallyourpetsnamederic*, then it imports that module."
   ]
  },
  {
   "cell_type": "code",
   "execution_count": 11,
   "id": "921b6cb2",
   "metadata": {},
   "outputs": [
    {
     "ename": "ModuleNotFoundError",
     "evalue": "No module named 'areallyourpetsnamederic'",
     "output_type": "error",
     "traceback": [
      "\u001b[1;31m---------------------------------------------------------------------------\u001b[0m",
      "\u001b[1;31mModuleNotFoundError\u001b[0m                       Traceback (most recent call last)",
      "\u001b[1;32m<ipython-input-11-b1ea9cb2228f>\u001b[0m in \u001b[0;36m<module>\u001b[1;34m\u001b[0m\n\u001b[1;32m----> 1\u001b[1;33m \u001b[1;32mimport\u001b[0m \u001b[0mareallyourpetsnamederic\u001b[0m\u001b[1;33m\u001b[0m\u001b[1;33m\u001b[0m\u001b[0m\n\u001b[0m",
      "\u001b[1;31mModuleNotFoundError\u001b[0m: No module named 'areallyourpetsnamederic'"
     ]
    }
   ],
   "source": [
    "import areallyourpetsnamederic"
   ]
  },
  {
   "cell_type": "markdown",
   "id": "90d45c1a",
   "metadata": {},
   "source": [
    "12. If you had a bacon() feature in a spam module, what would you call it after importing spam?"
   ]
  },
  {
   "cell_type": "markdown",
   "id": "45b77d9b",
   "metadata": {},
   "source": [
    "**ANS:** we usually include the module prior the object bacon."
   ]
  },
  {
   "cell_type": "code",
   "execution_count": null,
   "id": "91c83dc5",
   "metadata": {},
   "outputs": [],
   "source": [
    "import spam\n",
    "\n",
    "spam.bacon()"
   ]
  },
  {
   "cell_type": "markdown",
   "id": "599e5f51",
   "metadata": {},
   "source": [
    "13. What can you do to save a programme from crashing if it encounters an error?"
   ]
  },
  {
   "cell_type": "markdown",
   "id": "e8cadc75",
   "metadata": {},
   "source": [
    "**ANS:** We use error handling for this case which is nothing but try-except."
   ]
  },
  {
   "cell_type": "code",
   "execution_count": 15,
   "id": "3589bebd",
   "metadata": {},
   "outputs": [],
   "source": [
    "def test(a,b):\n",
    "    try:\n",
    "        lg.info(str(a)+str(b))\n",
    "        div = a/b\n",
    "        return div\n",
    "    except:\n",
    "        return \"Error\""
   ]
  },
  {
   "cell_type": "code",
   "execution_count": 16,
   "id": "61c22a96",
   "metadata": {},
   "outputs": [
    {
     "data": {
      "text/plain": [
       "'Error'"
      ]
     },
     "execution_count": 16,
     "metadata": {},
     "output_type": "execute_result"
    }
   ],
   "source": [
    "test(4,0)"
   ]
  },
  {
   "cell_type": "markdown",
   "id": "71dcfc25",
   "metadata": {},
   "source": [
    "14. What is the purpose of the try clause? What is the purpose of the except clause?"
   ]
  },
  {
   "cell_type": "markdown",
   "id": "730ff892",
   "metadata": {},
   "source": [
    "**ANS:** If we are not sure whether the code gives an error or not we use *try* clause which usually when we feel error might occur. When error occured  then *except* is executed"
   ]
  },
  {
   "cell_type": "markdown",
   "id": "a38902b4",
   "metadata": {},
   "source": [
    "# ----------------------------------- END OF ASSIGNMENT 3 -----------------------------------"
   ]
  }
 ],
 "metadata": {
  "kernelspec": {
   "display_name": "Python 3",
   "language": "python",
   "name": "python3"
  },
  "language_info": {
   "codemirror_mode": {
    "name": "ipython",
    "version": 3
   },
   "file_extension": ".py",
   "mimetype": "text/x-python",
   "name": "python",
   "nbconvert_exporter": "python",
   "pygments_lexer": "ipython3",
   "version": "3.8.8"
  }
 },
 "nbformat": 4,
 "nbformat_minor": 5
}
